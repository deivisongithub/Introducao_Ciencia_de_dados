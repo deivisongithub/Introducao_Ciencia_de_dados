{
 "cells": [
  {
   "cell_type": "markdown",
   "metadata": {},
   "source": [
    "# Introdução à Ciência de Dados - UFPB\n",
    "Professor: Yuri Malheiros\n",
    "\n",
    "Aluno: Deivison rodrigues jordão\n",
    "\n",
    "## Medidas de Centralidade e Dispersão"
   ]
  },
  {
   "cell_type": "markdown",
   "metadata": {},
   "source": [
    "A partir do dataset `movies.csv` calcule a média, mediana e desvio padrão para as colunas:"
   ]
  },
  {
   "cell_type": "markdown",
   "metadata": {},
   "source": [
    "### US Gross"
   ]
  },
  {
   "cell_type": "code",
   "execution_count": 3,
   "metadata": {},
   "outputs": [
    {
     "name": "stdout",
     "output_type": "stream",
     "text": [
      "Média          44002085.163744524\n",
      "Mediana        22019465.5\n",
      "Desvio padrão  62545517.99547237\n"
     ]
    }
   ],
   "source": [
    "# ADICIONE O SEU CÓDIGO AQUI\n",
    "import numpy as np\n",
    "import pandas as pd\n",
    "tabela_filmes = pd.read_csv(\"movies.csv\")\n",
    "print(\"Média         \",np.mean(tabela_filmes[\"US Gross\"]))\n",
    "print(\"Mediana       \",tabela_filmes[\"US Gross\"].median())\n",
    "print(\"Desvio padrão \",np.var(tabela_filmes[\"US Gross\"])**0.5)"
   ]
  },
  {
   "cell_type": "markdown",
   "metadata": {},
   "source": [
    "### Production Budget"
   ]
  },
  {
   "cell_type": "code",
   "execution_count": 5,
   "metadata": {},
   "outputs": [
    {
     "name": "stdout",
     "output_type": "stream",
     "text": [
      "Média          31069171.4484375\n",
      "Mediana        20000000.0\n",
      "Desvio padrão  35580352.711202495\n"
     ]
    }
   ],
   "source": [
    "# ADICIONE O SEU CÓDIGO AQUI\n",
    "print(\"Média         \",np.mean(tabela_filmes[\"Production Budget\"]))\n",
    "print(\"Mediana       \",tabela_filmes[\"Production Budget\"].median())\n",
    "print(\"Desvio padrão \",np.var(tabela_filmes[\"Production Budget\"])**0.5)"
   ]
  },
  {
   "cell_type": "markdown",
   "metadata": {},
   "source": [
    "### Running Time"
   ]
  },
  {
   "cell_type": "code",
   "execution_count": 6,
   "metadata": {},
   "outputs": [
    {
     "name": "stdout",
     "output_type": "stream",
     "text": [
      "Média          110.19354838709677\n",
      "Mediana        107.0\n",
      "Desvio padrão  20.162669927984\n"
     ]
    }
   ],
   "source": [
    "# ADICIONE O SEU CÓDIGO AQUI\n",
    "print(\"Média         \",np.mean(tabela_filmes[\"Running Time (min)\"]))\n",
    "print(\"Mediana       \",tabela_filmes[\"Running Time (min)\"].median())\n",
    "print(\"Desvio padrão \",np.var(tabela_filmes[\"Running Time (min)\"])**0.5)"
   ]
  },
  {
   "cell_type": "markdown",
   "metadata": {},
   "source": [
    "### IMDB Rating"
   ]
  },
  {
   "cell_type": "code",
   "execution_count": 7,
   "metadata": {},
   "outputs": [
    {
     "name": "stdout",
     "output_type": "stream",
     "text": [
      "Média          6.283467202141896\n",
      "Mediana        6.4\n",
      "Desvio padrão  1.2520803678620736\n"
     ]
    }
   ],
   "source": [
    "# ADICIONE O SEU CÓDIGO AQUI\n",
    "print(\"Média         \",np.mean(tabela_filmes[\"IMDB Rating\"]))\n",
    "print(\"Mediana       \",tabela_filmes[\"IMDB Rating\"].median())\n",
    "print(\"Desvio padrão \",np.var(tabela_filmes[\"IMDB Rating\"])**0.5)"
   ]
  },
  {
   "cell_type": "markdown",
   "metadata": {},
   "source": [
    "### IMDB Votes"
   ]
  },
  {
   "cell_type": "code",
   "execution_count": 8,
   "metadata": {},
   "outputs": [
    {
     "name": "stdout",
     "output_type": "stream",
     "text": [
      "Média          29908.64457831325\n",
      "Mediana        15106.0\n",
      "Desvio padrão  44930.0620300292\n"
     ]
    }
   ],
   "source": [
    "# ADICIONE O SEU CÓDIGO AQUI\n",
    "print(\"Média         \",np.mean(tabela_filmes[\"IMDB Votes\"]))\n",
    "print(\"Mediana       \",tabela_filmes[\"IMDB Votes\"].median())\n",
    "print(\"Desvio padrão \",np.var(tabela_filmes[\"IMDB Votes\"])**0.5)"
   ]
  },
  {
   "cell_type": "markdown",
   "metadata": {},
   "source": [
    "### Análise dos Resultados\n",
    "\n",
    "Quais colunas tiveram valores muito diferentes entre média e mediana? Quais os seus desvios padrão?"
   ]
  },
  {
   "cell_type": "markdown",
   "metadata": {},
   "source": [
    "**RESPONDA AQUI**\n",
    "\n",
    "***O conceito de muito é relativo,porém ao meu ver as colunas que tiveram diferenças gritantes entre média e mediana foram:***\n",
    "\n",
    "***1.US Gross com aproximadamente 21.982.619 de diferença entre média e mediana, e seu desvio padrão foi de 62.545.517,99547237***\n",
    "\n",
    "***2.Production Budget com aproximadamente 11.069.171 de diferença entre média e mediana, e seu desvio padrão foi de 35.580.352,711202495***\n",
    "\n",
    "***3.IMDB Votes com aproximadamente 14.802 de diferença entre média e mediana, e seu desvio padrão foi de 44.930,0620300292***"
   ]
  },
  {
   "cell_type": "markdown",
   "metadata": {},
   "source": [
    "Que conclusões podemos tirar desses resultados?"
   ]
  },
  {
   "cell_type": "markdown",
   "metadata": {},
   "source": [
    "**RESPONDA AQUI**\n",
    "\n",
    "***conclusões:***\n",
    "\n",
    "***1. Observando a diferença entre as médias e medianas e o valor do desvio padrão das colunas US Gross,Production Budget e IMDB Votes,podemos inferir que os valores de seus componentes são muito diversificados e distribuidos de forma desbalanceadas. Certamente Isso não é uma supresa, já que valores relacionados a US Gross e Production Budget dependendem de diversas variáveis como o hype em volta do filme,acessibilidade ao filme nas salas de cinema,marketing feito pelos produtores,o interesse dos investidores em invertir na obra ou se é uma obra independente de baixo custo. E quanto ao IMDB Votes é lógico inferir que a causa da grande dispersão de seus elementos se dá ao fato de que filmes muito famosos são muito mais votados do que aqueles que são produções não tão conhecidas,concentrando assim os votos e gerando essa disparidaridade.***\n",
    "\n",
    "***2. Observando a diferença entre as médias e medianas e o valor do desvio padrão das colunas Running Time (min) e IMDB Rating,se conclue intuitivamente que os valores de seus componentes são bem distribuidos e balanciados. Pois,Uma vez que,o tempo de duranção de um filme é, em geral, padronizado para que cumpra com alguns fatores,como retenção da atenção do público,não desgastar o público com relação a obra,ritmo do filme,entre outros fatores,e obiviamente há exceções.***\n"
   ]
  }
 ],
 "metadata": {
  "kernelspec": {
   "display_name": "Python 3",
   "language": "python",
   "name": "python3"
  },
  "language_info": {
   "codemirror_mode": {
    "name": "ipython",
    "version": 3
   },
   "file_extension": ".py",
   "mimetype": "text/x-python",
   "name": "python",
   "nbconvert_exporter": "python",
   "pygments_lexer": "ipython3",
   "version": "3.8.5"
  }
 },
 "nbformat": 4,
 "nbformat_minor": 4
}
